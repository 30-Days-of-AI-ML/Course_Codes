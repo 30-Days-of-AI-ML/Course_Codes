{
 "cells": [
  {
   "cell_type": "code",
   "execution_count": 1,
   "metadata": {},
   "outputs": [
    {
     "name": "stdout",
     "output_type": "stream",
     "text": [
      "hello,python\n"
     ]
    }
   ],
   "source": [
    "print(\"hello,python\")"
   ]
  },
  {
   "cell_type": "code",
   "execution_count": 2,
   "metadata": {},
   "outputs": [
    {
     "name": "stdout",
     "output_type": "stream",
     "text": [
      "hi\n"
     ]
    }
   ],
   "source": [
    "#create a variable in py \n",
    "my_variable= \"hi\"\n",
    "print(my_variable)"
   ]
  },
  {
   "cell_type": "code",
   "execution_count": 3,
   "metadata": {},
   "outputs": [],
   "source": [
    "# ; >> For side by side placing a data \n",
    "# , Is used to deal with conditional cases \n",
    "# def is for the fuction declarations\n",
    "#creating my first func in py \n",
    "#cube of number \n",
    "\n",
    "def cube(num):\n",
    "    cube_num= num** 3\n",
    "    return cube_num\n",
    "    "
   ]
  },
  {
   "cell_type": "code",
   "execution_count": 5,
   "metadata": {},
   "outputs": [
    {
     "name": "stdout",
     "output_type": "stream",
     "text": [
      "2 cubed is 8\n"
     ]
    }
   ],
   "source": [
    "# for reading a file or just any data --> r at the start \n",
    "\n",
    "print(f\"2 cubed is {cube(2)}\")"
   ]
  },
  {
   "cell_type": "code",
   "execution_count": 6,
   "metadata": {},
   "outputs": [
    {
     "name": "stdout",
     "output_type": "stream",
     "text": [
      "2\n",
      "3\n",
      "4\n",
      "5\n",
      "6\n",
      "7\n",
      "8\n",
      "9\n",
      "10\n"
     ]
    }
   ],
   "source": [
    "#run of circles\n",
    "#inrange is a inbuild py func that takes care of the start and end _point\n",
    "#inrange func is taken care of inside py libarary numpy \n",
    "for i in range(2,11):\n",
    "    print(i)"
   ]
  },
  {
   "cell_type": "code",
   "execution_count": 11,
   "metadata": {},
   "outputs": [
    {
     "name": "stdout",
     "output_type": "stream",
     "text": [
      "2\n",
      "3\n",
      "4\n",
      "5\n",
      "6\n",
      "7\n",
      "8\n",
      "9\n",
      "10\n"
     ]
    }
   ],
   "source": [
    "i= 2\n",
    "while i < 11: \n",
    "    print(i)\n",
    "    i=i+1\n",
    "      \n",
    "      "
   ]
  },
  {
   "cell_type": "code",
   "execution_count": 14,
   "metadata": {},
   "outputs": [
    {
     "name": "stdout",
     "output_type": "stream",
     "text": [
      "4\n",
      "8\n",
      "16\n"
     ]
    }
   ],
   "source": [
    "#my problem is doubling a number \n",
    "def doubles(num):\n",
    "    return num*2 #multiplying each output by 2 \n",
    "\n",
    "my_num = 2\n",
    "for i in range (0, 3):\n",
    "    my_num= doubles(my_num)\n",
    "    print(my_num)"
   ]
  },
  {
   "cell_type": "code",
   "execution_count": 31,
   "metadata": {},
   "outputs": [
    {
     "name": "stdout",
     "output_type": "stream",
     "text": [
      "odd\n",
      "9, 11, 13, 15, 17, 19, 21, 23, 25, 25.\n"
     ]
    }
   ],
   "source": [
    "#print number is even or odd \n",
    "# taking a number input from a user\n",
    "#displaying 9 consequetive no with even or odd\n",
    "\n",
    "def even_odd(num):\n",
    "    if num%2==0: \n",
    "        print(\"even\")\n",
    "    else :\n",
    "        print(\"odd\")\n",
    "    for i in range(0, 20 , 2):\n",
    "        print(num+i)\n",
    "        \n",
    "def even_odd_uncessary(num):\n",
    "    if num%2 ==0:\n",
    "        print(\"even\")\n",
    "    else:\n",
    "        print(\"odd\")\n",
    "        \n",
    "    for i in range(0 , 18, 2):\n",
    "        print(num+i, sep='', end=', ' , flush=True) #flush checking your code buffer removing unnecsary funcyion calls \n",
    "    print(num+i, sep='', end='.\\n' , flush=False)\n",
    "        \n",
    "if __name__ == '__main__':\n",
    "      \n",
    "    \n",
    "     even_odd_uncessary(9)\n",
    "     \n",
    "    "
   ]
  },
  {
   "cell_type": "code",
   "execution_count": 33,
   "metadata": {},
   "outputs": [],
   "source": [
    "#differentiating by python\n",
    "# first python pkg - SYMPY--- It is a py pkg that deals with derrivatives , integrals , limits , series \n",
    "# numpy is dealing maths cal for set theories & matrix arrays \n",
    "\n",
    "from sympy import * \n",
    "from sympy import * \n",
    "x , y , z = symbols('x,y,z')\n",
    "init_printing(use_unicode=True)"
   ]
  },
  {
   "cell_type": "code",
   "execution_count": 35,
   "metadata": {},
   "outputs": [
    {
     "name": "stdout",
     "output_type": "stream",
     "text": [
      "Requirement already satisfied: gTTS in c:\\users\\anustup\\anaconda3\\lib\\site-packages (2.1.1)\n",
      "Requirement already satisfied: six in c:\\users\\anustup\\anaconda3\\lib\\site-packages (from gTTS) (1.15.0)\n",
      "Requirement already satisfied: click in c:\\users\\anustup\\anaconda3\\lib\\site-packages (from gTTS) (7.1.2)\n",
      "Requirement already satisfied: requests in c:\\users\\anustup\\anaconda3\\lib\\site-packages (from gTTS) (2.24.0)\n",
      "Requirement already satisfied: gtts-token>=1.1.3 in c:\\users\\anustup\\anaconda3\\lib\\site-packages (from gTTS) (1.1.3)\n",
      "Requirement already satisfied: beautifulsoup4 in c:\\users\\anustup\\anaconda3\\lib\\site-packages (from gTTS) (4.9.1)\n",
      "Requirement already satisfied: idna<3,>=2.5 in c:\\users\\anustup\\anaconda3\\lib\\site-packages (from requests->gTTS) (2.10)\n",
      "Requirement already satisfied: urllib3!=1.25.0,!=1.25.1,<1.26,>=1.21.1 in c:\\users\\anustup\\anaconda3\\lib\\site-packages (from requests->gTTS) (1.25.9)\n",
      "Requirement already satisfied: certifi>=2017.4.17 in c:\\users\\anustup\\anaconda3\\lib\\site-packages (from requests->gTTS) (2020.6.20)\n",
      "Requirement already satisfied: chardet<4,>=3.0.2 in c:\\users\\anustup\\anaconda3\\lib\\site-packages (from requests->gTTS) (3.0.4)\n",
      "Requirement already satisfied: soupsieve>1.2 in c:\\users\\anustup\\anaconda3\\lib\\site-packages (from beautifulsoup4->gTTS) (2.0.1)\n",
      "Requirement already satisfied: playsound in c:\\users\\anustup\\anaconda3\\lib\\site-packages (1.2.2)\n"
     ]
    },
    {
     "ename": "PermissionError",
     "evalue": "[Errno 13] Permission denied: 'exam.mp3'",
     "output_type": "error",
     "traceback": [
      "\u001b[1;31m---------------------------------------------------------------------------\u001b[0m",
      "\u001b[1;31mPermissionError\u001b[0m                           Traceback (most recent call last)",
      "\u001b[1;32m<ipython-input-35-983bed82f79c>\u001b[0m in \u001b[0;36m<module>\u001b[1;34m\u001b[0m\n\u001b[0;32m      7\u001b[0m \u001b[0mlanguage\u001b[0m \u001b[1;33m=\u001b[0m\u001b[1;34m'en'\u001b[0m\u001b[1;33m\u001b[0m\u001b[1;33m\u001b[0m\u001b[0m\n\u001b[0;32m      8\u001b[0m \u001b[0mobj\u001b[0m \u001b[1;33m=\u001b[0m \u001b[0mgTTS\u001b[0m\u001b[1;33m(\u001b[0m\u001b[0mtext\u001b[0m \u001b[1;33m=\u001b[0m \u001b[0mtext_val\u001b[0m \u001b[1;33m,\u001b[0m \u001b[0mlang\u001b[0m \u001b[1;33m=\u001b[0m \u001b[0mlanguage\u001b[0m \u001b[1;33m,\u001b[0m \u001b[0mslow\u001b[0m\u001b[1;33m=\u001b[0m \u001b[1;32mFalse\u001b[0m\u001b[1;33m)\u001b[0m\u001b[1;33m\u001b[0m\u001b[1;33m\u001b[0m\u001b[0m\n\u001b[1;32m----> 9\u001b[1;33m \u001b[0mobj\u001b[0m\u001b[1;33m.\u001b[0m\u001b[0msave\u001b[0m\u001b[1;33m(\u001b[0m\u001b[1;34m\"exam.mp3\"\u001b[0m\u001b[1;33m)\u001b[0m\u001b[1;33m\u001b[0m\u001b[1;33m\u001b[0m\u001b[0m\n\u001b[0m\u001b[0;32m     10\u001b[0m \u001b[0mplaysound\u001b[0m\u001b[1;33m(\u001b[0m\u001b[1;34m\"exam.mp3\"\u001b[0m\u001b[1;33m)\u001b[0m\u001b[1;33m\u001b[0m\u001b[1;33m\u001b[0m\u001b[0m\n",
      "\u001b[1;32m~\\Anaconda3\\lib\\site-packages\\gtts\\tts.py\u001b[0m in \u001b[0;36msave\u001b[1;34m(self, savefile)\u001b[0m\n\u001b[0;32m    292\u001b[0m \u001b[1;33m\u001b[0m\u001b[0m\n\u001b[0;32m    293\u001b[0m         \"\"\"\n\u001b[1;32m--> 294\u001b[1;33m         \u001b[1;32mwith\u001b[0m \u001b[0mopen\u001b[0m\u001b[1;33m(\u001b[0m\u001b[0mstr\u001b[0m\u001b[1;33m(\u001b[0m\u001b[0msavefile\u001b[0m\u001b[1;33m)\u001b[0m\u001b[1;33m,\u001b[0m \u001b[1;34m'wb'\u001b[0m\u001b[1;33m)\u001b[0m \u001b[1;32mas\u001b[0m \u001b[0mf\u001b[0m\u001b[1;33m:\u001b[0m\u001b[1;33m\u001b[0m\u001b[1;33m\u001b[0m\u001b[0m\n\u001b[0m\u001b[0;32m    295\u001b[0m             \u001b[0mself\u001b[0m\u001b[1;33m.\u001b[0m\u001b[0mwrite_to_fp\u001b[0m\u001b[1;33m(\u001b[0m\u001b[0mf\u001b[0m\u001b[1;33m)\u001b[0m\u001b[1;33m\u001b[0m\u001b[1;33m\u001b[0m\u001b[0m\n\u001b[0;32m    296\u001b[0m             \u001b[0mlog\u001b[0m\u001b[1;33m.\u001b[0m\u001b[0mdebug\u001b[0m\u001b[1;33m(\u001b[0m\u001b[1;34m\"Saved to %s\"\u001b[0m\u001b[1;33m,\u001b[0m \u001b[0msavefile\u001b[0m\u001b[1;33m)\u001b[0m\u001b[1;33m\u001b[0m\u001b[1;33m\u001b[0m\u001b[0m\n",
      "\u001b[1;31mPermissionError\u001b[0m: [Errno 13] Permission denied: 'exam.mp3'"
     ]
    }
   ],
   "source": [
    "# Implementing Google Text to Speech\n",
    "!pip install gTTS\n",
    "!pip install playsound\n",
    "from gtts import gTTS\n",
    "#playsound pkg is used to get any sound data from Gtts and save it in a sound file\n",
    "from playsound import playsound\n",
    "text_val = 'Hello'\n",
    "language ='en'\n",
    "obj = gTTS(text = text_val , lang = language , slow= False)\n",
    "obj.save(\"exam.mp3\")\n",
    "playsound(\"exam.mp3\")"
   ]
  },
  {
   "cell_type": "code",
   "execution_count": null,
   "metadata": {},
   "outputs": [],
   "source": [
    "# conda install pip \n",
    "# pip install gTTS"
   ]
  }
 ],
 "metadata": {
  "kernelspec": {
   "display_name": "Python 3",
   "language": "python",
   "name": "python3"
  },
  "language_info": {
   "codemirror_mode": {
    "name": "ipython",
    "version": 3
   },
   "file_extension": ".py",
   "mimetype": "text/x-python",
   "name": "python",
   "nbconvert_exporter": "python",
   "pygments_lexer": "ipython3",
   "version": "3.7.1"
  }
 },
 "nbformat": 4,
 "nbformat_minor": 4
}
